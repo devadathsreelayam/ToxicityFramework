{
 "cells": [
  {
   "cell_type": "code",
   "execution_count": 1,
   "id": "dcfada44",
   "metadata": {},
   "outputs": [
    {
     "name": "stdout",
     "output_type": "stream",
     "text": [
      "['ames', 'avian_tox', 'bee_tox', 'biodegradation', 'carcinogenicity', 'crustacean', 'dili', 'eye_corrosion', 'eye_irritation', 'herg', 'hia', 'h_ht', 'micronucleus_tox', 'nr_ahr', 'nr_ar', 'nr_aromatase', 'nr_ar_lbd', 'nr_er', 'nr_er_lbd', 'nr_gr', 'nr_ppar_gamma', 'nr_tr', 'respiratory_tox', 'skin_sens', 'sr_are', 'sr_atad5', 'sr_hse', 'sr_mmp', 'sr_p53']\n"
     ]
    }
   ],
   "source": [
    "import os\n",
    "\n",
    "endpoints = os.listdir('data/generated_desc')\n",
    "print(endpoints)"
   ]
  },
  {
   "cell_type": "code",
   "execution_count": 2,
   "id": "c7507fdc",
   "metadata": {},
   "outputs": [
    {
     "name": "stdout",
     "output_type": "stream",
     "text": [
      "16\n",
      "True\n"
     ]
    }
   ],
   "source": [
    "ran_endpoints = ['ames', 'avian_tox', 'bee_tox', 'biodegradation', 'carcinogenicity', 'crustacean', 'eye_corrosion', 'eye_irritation', 'h_ht', 'herg', 'hia', 'micronucleus_tox', 'nr_gr', 'nr_tr', 'respiratory_tox', 'skin_sens']\n",
    "print(len(ran_endpoints))\n",
    "\n",
    "flag = True\n",
    "for endpoint in ran_endpoints:\n",
    "    if not endpoint in ran_endpoints:\n",
    "        flag = False\n",
    "        print(endpoint)\n",
    "\n",
    "print(flag)"
   ]
  },
  {
   "cell_type": "code",
   "execution_count": 3,
   "id": "b3228b1f",
   "metadata": {},
   "outputs": [
    {
     "name": "stdout",
     "output_type": "stream",
     "text": [
      "['dili', 'nr_ahr', 'nr_ar', 'nr_aromatase', 'nr_ar_lbd', 'nr_er', 'nr_er_lbd', 'nr_ppar_gamma', 'sr_are', 'sr_atad5', 'sr_hse', 'sr_mmp', 'sr_p53']\n"
     ]
    }
   ],
   "source": [
    "ran_endpoints = [\n",
    "    'ames', 'avian_tox', 'bee_tox', 'biodegradation', 'carcinogenicity',\n",
    "    'crustacean', 'eye_corrosion', 'eye_irritation', 'h_ht', 'herg',\n",
    "    'hia', 'micronucleus_tox', 'nr_gr', 'nr_tr', 'respiratory_tox', 'skin_sens'\n",
    "]\n",
    "\n",
    "BASE_DIR = 'data/generated_desc'\n",
    "all_endpoints = os.listdir(BASE_DIR)\n",
    "\n",
    "endpoints = [endpoint for endpoint in all_endpoints if endpoint not in ran_endpoints]\n",
    "print(endpoints)"
   ]
  },
  {
   "cell_type": "code",
   "execution_count": 7,
   "id": "2965c14d",
   "metadata": {},
   "outputs": [
    {
     "name": "stdout",
     "output_type": "stream",
     "text": [
      "PyTorch version: 2.7.1+cu118\n",
      "CUDA available: True\n",
      "GPU name: NVIDIA GeForce GTX 1650\n"
     ]
    }
   ],
   "source": [
    "import torch\n",
    "\n",
    "print(\"PyTorch version:\", torch.__version__)\n",
    "print(\"CUDA available:\", torch.cuda.is_available())\n",
    "print(\"GPU name:\", torch.cuda.get_device_name(0) if torch.cuda.is_available() else \"No GPU found\")"
   ]
  }
 ],
 "metadata": {
  "kernelspec": {
   "display_name": "venv",
   "language": "python",
   "name": "python3"
  },
  "language_info": {
   "codemirror_mode": {
    "name": "ipython",
    "version": 3
   },
   "file_extension": ".py",
   "mimetype": "text/x-python",
   "name": "python",
   "nbconvert_exporter": "python",
   "pygments_lexer": "ipython3",
   "version": "3.11.8"
  }
 },
 "nbformat": 4,
 "nbformat_minor": 5
}
